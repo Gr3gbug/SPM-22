{
 "cells": [
  {
   "cell_type": "markdown",
   "metadata": {},
   "source": [
    "# Simple pipeline using a shared queue (SPSC)\n",
    "First introduce the code for the single producer single consumer queue using condition variables to synchronize accesses"
   ]
  },
  {
   "cell_type": "markdown",
   "metadata": {},
   "source": [
    "Some includes to get necessary functionalities"
   ]
  },
  {
   "cell_type": "code",
   "execution_count": 1,
   "metadata": {},
   "outputs": [],
   "source": [
    "#include <iostream>\n",
    "#include <mutex>\n",
    "#include <condition_variable>\n",
    "#include <deque>\n",
    "#include <vector>\n",
    "#include <chrono>\n",
    "#include <cstddef>\n",
    "#include <math.h>\n",
    "#include <string>"
   ]
  },
  {
   "cell_type": "markdown",
   "metadata": {},
   "source": [
    "The queue code itself. It is defined as a template such that we can defined queues with different item types:"
   ]
  },
  {
   "cell_type": "code",
   "execution_count": 2,
   "metadata": {},
   "outputs": [],
   "source": [
    "template <typename T>\n",
    "class myqueue\n",
    "{\n",
    "private:\n",
    "  std::mutex              d_mutex;\n",
    "  std::condition_variable d_condition;\n",
    "  std::deque<T>           d_queue;\n",
    "public:\n",
    "\n",
    "  myqueue(std::string s) { std::cout << \"Created \" << s << \" queue \" << std::endl;  }\n",
    "  myqueue() {}\n",
    "  \n",
    "  void push(T const& value) {\n",
    "    {\n",
    "      std::unique_lock<std::mutex> lock(d_mutex);\n",
    "      d_queue.push_front(value);\n",
    "    }\n",
    "    this->d_condition.notify_one();\n",
    "  }\n",
    "  \n",
    "  T pop() {\n",
    "    std::unique_lock<std::mutex> lock(d_mutex);\n",
    "    d_condition.wait(lock, [=]{ return !d_queue.empty(); });  // wait if the queue is currently empty\n",
    "    T rc(std::move(this->d_queue.back()));       // used to get the actual message rather than a copy\n",
    "    d_queue.pop_back();                   // remove the item just read from the back end of the queue\n",
    "    return rc;\n",
    "  }\n",
    "};\n"
   ]
  },
  {
   "cell_type": "markdown",
   "metadata": {},
   "source": [
    "Finally we need something to denote the end of a stream, modelled with the queue. We will use queues of positive integeres, therefore let's go for a negative number"
   ]
  },
  {
   "cell_type": "code",
   "execution_count": 3,
   "metadata": {},
   "outputs": [],
   "source": [
    "#define EOS -1"
   ]
  },
  {
   "cell_type": "markdown",
   "metadata": {},
   "source": [
    "## Thread to read from the queue"
   ]
  },
  {
   "cell_type": "markdown",
   "metadata": {},
   "source": [
    "This is the function to read and print something from the queue hosting pointers to integers. It will be used as thread body of the last pipeline stage.\n",
    "We will use a sleep to slow down queue pushes."
   ]
  },
  {
   "cell_type": "code",
   "execution_count": 4,
   "metadata": {},
   "outputs": [],
   "source": [
    "#include <chrono>\n",
    "#include <thread>\n",
    "using namespace std::chrono_literals;"
   ]
  },
  {
   "cell_type": "code",
   "execution_count": 5,
   "metadata": {},
   "outputs": [],
   "source": [
    "void drain(myqueue<int> &q) {\n",
    "  std::cout << \"Drain started\" << std::endl;\n",
    "  auto e = q.pop();\n",
    "  \n",
    "  while(e != EOS) {\n",
    "    std::cout << \"received \" << e << std::endl;\n",
    "    e = q.pop();\n",
    "  }\n",
    "  return;\n",
    "}"
   ]
  },
  {
   "cell_type": "markdown",
   "metadata": {},
   "source": [
    "This is the function to send something to an integer pointer queue (stream creation). It will be used as the thread body for the first pipeline stage"
   ]
  },
  {
   "cell_type": "code",
   "execution_count": 6,
   "metadata": {},
   "outputs": [],
   "source": [
    "void source(myqueue<int> &q) {\n",
    "    for(int i=0; i<16; i++){\n",
    "        q.push(i);\n",
    "        std::this_thread::sleep_for(1000ms);\n",
    "    }\n",
    "    q.push(EOS);\n",
    "    std::cout << \"sent EOS\" << std::endl;\n",
    "    return;\n",
    "}"
   ]
  },
  {
   "cell_type": "markdown",
   "metadata": {},
   "source": [
    "Now we create an integer queue:"
   ]
  },
  {
   "cell_type": "code",
   "execution_count": 7,
   "metadata": {},
   "outputs": [],
   "source": [
    "myqueue<int> myq;"
   ]
  },
  {
   "cell_type": "markdown",
   "metadata": {},
   "source": [
    "We can start the drain. It will stop immediately blocked on the condition variable, as the queue is still empty:"
   ]
  },
  {
   "cell_type": "code",
   "execution_count": 8,
   "metadata": {},
   "outputs": [
    {
     "name": "stdout",
     "output_type": "stream",
     "text": [
      "Drain started\n"
     ]
    }
   ],
   "source": [
    "std::thread tdrain(drain,std::ref(myq));"
   ]
  },
  {
   "cell_type": "markdown",
   "metadata": {},
   "source": [
    "Now we can start the thread filling the queue:"
   ]
  },
  {
   "cell_type": "code",
   "execution_count": 9,
   "metadata": {},
   "outputs": [
    {
     "name": "stdout",
     "output_type": "stream",
     "text": [
      "received 0\n"
     ]
    }
   ],
   "source": [
    "std::thread tsource(source,std::ref(myq));"
   ]
  },
  {
   "cell_type": "markdown",
   "metadata": {},
   "source": [
    "Items are received and printed from the drain with the delay of dictated by the source. Let's use a fresh queue:"
   ]
  },
  {
   "cell_type": "code",
   "execution_count": 10,
   "metadata": {},
   "outputs": [
    {
     "name": "stdout",
     "output_type": "stream",
     "text": [
      "received 1\n",
      "received 2\n",
      "received 3\n",
      "received 4\n",
      "received 5\n",
      "received 6\n",
      "received 7\n",
      "received 8\n",
      "received 9\n",
      "received 10\n",
      "received 11\n",
      "received 12\n",
      "received 13\n",
      "received 14\n",
      "received 15\n",
      "sent EOS\n"
     ]
    }
   ],
   "source": [
    "tsource.join();"
   ]
  },
  {
   "cell_type": "code",
   "execution_count": 11,
   "metadata": {},
   "outputs": [],
   "source": [
    "tdrain.join();"
   ]
  },
  {
   "cell_type": "code",
   "execution_count": 12,
   "metadata": {},
   "outputs": [],
   "source": [
    "myqueue<int> myq1;"
   ]
  },
  {
   "cell_type": "markdown",
   "metadata": {},
   "source": [
    "Now start a new source thread:"
   ]
  },
  {
   "cell_type": "code",
   "execution_count": 13,
   "metadata": {},
   "outputs": [],
   "source": [
    "std::thread tsource1(source,std::ref(myq1));"
   ]
  },
  {
   "cell_type": "markdown",
   "metadata": {},
   "source": [
    "Wait a few seconds and start the drain thread:"
   ]
  },
  {
   "cell_type": "code",
   "execution_count": 14,
   "metadata": {},
   "outputs": [
    {
     "name": "stdout",
     "output_type": "stream",
     "text": [
      "Drain started\n",
      "received 0\n",
      "received 1\n",
      "received 2\n",
      "received 3\n",
      "received 4\n",
      "received 5\n",
      "received 6\n",
      "received 7\n",
      "received 8\n",
      "received 9\n",
      "received 10\n",
      "received 11\n",
      "received 12\n",
      "received 13\n",
      "received 14\n",
      "received 15\n",
      "sent EOS\n"
     ]
    }
   ],
   "source": [
    "std::thread tdrain1(drain,std::ref(myq1));"
   ]
  },
  {
   "cell_type": "markdown",
   "metadata": {},
   "source": [
    "You'll see the items accumulated while waiting to start the second thread are immediately received from drain thread. "
   ]
  },
  {
   "cell_type": "code",
   "execution_count": 15,
   "metadata": {},
   "outputs": [],
   "source": [
    "tsource1.join();"
   ]
  },
  {
   "cell_type": "code",
   "execution_count": 16,
   "metadata": {},
   "outputs": [],
   "source": [
    "tdrain1.join();"
   ]
  }
 ],
 "metadata": {
  "kernelspec": {
   "display_name": "C++17",
   "language": "C++17",
   "name": "xcpp17"
  },
  "language_info": {
   "codemirror_mode": "text/x-c++src",
   "file_extension": ".cpp",
   "mimetype": "text/x-c++src",
   "name": "c++",
   "version": "-std=c++17"
  }
 },
 "nbformat": 4,
 "nbformat_minor": 4
}
