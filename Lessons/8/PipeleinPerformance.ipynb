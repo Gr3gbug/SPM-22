{
 "cells": [
  {
   "cell_type": "markdown",
   "metadata": {},
   "source": [
    "# Measuring pipeline performance"
   ]
  },
  {
   "cell_type": "markdown",
   "metadata": {},
   "source": [
    "## Queue"
   ]
  },
  {
   "cell_type": "code",
   "execution_count": 1,
   "metadata": {},
   "outputs": [],
   "source": [
    "#include <iostream>\n",
    "#include <mutex>\n",
    "#include <condition_variable>\n",
    "#include <deque>\n",
    "#include <vector>\n",
    "#include <chrono>\n",
    "#include <cstddef>\n",
    "#include <math.h>\n",
    "#include <string>\n",
    "#include <functional>"
   ]
  },
  {
   "cell_type": "markdown",
   "metadata": {},
   "source": [
    "The queue code itself. It is defined as a template such that we can defined queues with different item types:"
   ]
  },
  {
   "cell_type": "code",
   "execution_count": 2,
   "metadata": {},
   "outputs": [],
   "source": [
    "template <typename T>\n",
    "class myqueue\n",
    "{\n",
    "private:\n",
    "  std::mutex              d_mutex;\n",
    "  std::condition_variable d_condition;\n",
    "  std::deque<T>           d_queue;\n",
    "public:\n",
    "\n",
    "  myqueue(std::string s) { std::cout << \"Created \" << s << \" queue \" << std::endl;  }\n",
    "  myqueue() {}\n",
    "  \n",
    "  void push(T const& value) {\n",
    "    {\n",
    "      std::unique_lock<std::mutex> lock(d_mutex);\n",
    "      d_queue.push_front(value);\n",
    "    }\n",
    "    this->d_condition.notify_one();\n",
    "  }\n",
    "  \n",
    "  T pop() {\n",
    "    std::unique_lock<std::mutex> lock(d_mutex);\n",
    "    d_condition.wait(lock, [=]{ return !d_queue.empty(); });  // wait if the queue is currently empty\n",
    "    T rc(std::move(this->d_queue.back()));       // used to get the actual message rather than a copy\n",
    "    d_queue.pop_back();                   // remove the item just read from the back end of the queue\n",
    "    return rc;\n",
    "  }\n",
    "};\n"
   ]
  },
  {
   "cell_type": "markdown",
   "metadata": {},
   "source": [
    "Finally we need something to denote the end of a stream, modelled with the queue. We will use queues of positive integeres, therefore let's go for a negative number"
   ]
  },
  {
   "cell_type": "code",
   "execution_count": 3,
   "metadata": {},
   "outputs": [],
   "source": [
    "#define EOS -1"
   ]
  },
  {
   "cell_type": "markdown",
   "metadata": {},
   "source": [
    "## Drain stage definition"
   ]
  },
  {
   "cell_type": "markdown",
   "metadata": {},
   "source": [
    "This is the function to read and print something from the queue hosting pointers to integers. It will be used as thread body of the last pipeline stage.\n",
    "We will use a sleep to slow down queue pushes."
   ]
  },
  {
   "cell_type": "code",
   "execution_count": 4,
   "metadata": {},
   "outputs": [],
   "source": [
    "#include <chrono>\n",
    "#include <thread>\n",
    "using namespace std::chrono_literals;"
   ]
  },
  {
   "cell_type": "markdown",
   "metadata": {},
   "source": [
    "Second parameter is the delay simulated while processing an item (in milliseconds):"
   ]
  },
  {
   "cell_type": "code",
   "execution_count": 5,
   "metadata": {},
   "outputs": [],
   "source": [
    "void drain(myqueue<int> &q, std::chrono::milliseconds msecs) {\n",
    "  std::cout << \"Drain started\" << std::endl;\n",
    "  auto e = q.pop();\n",
    "  \n",
    "  while(e != EOS) {\n",
    "    std::this_thread::sleep_for(msecs);\n",
    "    std::cout << \"received \" << e << std::endl;\n",
    "    e = q.pop();\n",
    "  }\n",
    "    \n",
    "  return;\n",
    "}"
   ]
  },
  {
   "cell_type": "markdown",
   "metadata": {},
   "source": [
    "## Source stage definition"
   ]
  },
  {
   "cell_type": "code",
   "execution_count": 6,
   "metadata": {},
   "outputs": [],
   "source": [
    "void source(myqueue<int> &q, int n, std::chrono::milliseconds msecs) {\n",
    "    for(int i=0; i<n; i++){\n",
    "        std::this_thread::sleep_for(msecs);\n",
    "        q.push(i);\n",
    "        std::cout << \"Drain emitted \" << i << std::endl; \n",
    "    }\n",
    "    q.push(EOS);\n",
    "    std::cout << \"sent EOS\" << std::endl;\n",
    "    return;\n",
    "}"
   ]
  },
  {
   "cell_type": "markdown",
   "metadata": {},
   "source": [
    "## Generic stage definition (computes int -> int function)"
   ]
  },
  {
   "cell_type": "code",
   "execution_count": 7,
   "metadata": {},
   "outputs": [],
   "source": [
    "void genericstage(myqueue<int> &inq, myqueue<int> &outq, std::chrono::milliseconds msecs) {\n",
    "  auto e = inq.pop();\n",
    "  \n",
    "  while(e != EOS) {\n",
    "    std::this_thread::sleep_for(msecs);\n",
    "    auto res = e+1;\n",
    "    outq.push(res);\n",
    "    e = inq.pop();\n",
    "  }\n",
    "  outq.push(EOS);\n",
    "  return;\n",
    "}"
   ]
  },
  {
   "cell_type": "markdown",
   "metadata": {},
   "source": [
    "## Queue declarations"
   ]
  },
  {
   "cell_type": "code",
   "execution_count": 8,
   "metadata": {},
   "outputs": [],
   "source": [
    "myqueue<int> source2one, one2drain;"
   ]
  },
  {
   "cell_type": "markdown",
   "metadata": {},
   "source": [
    "## Pipeline set up"
   ]
  },
  {
   "cell_type": "markdown",
   "metadata": {},
   "source": [
    "We will implement a\n",
    "* pipeline(source, genericstage(inc), drain) "
   ]
  },
  {
   "cell_type": "code",
   "execution_count": 9,
   "metadata": {},
   "outputs": [
    {
     "name": "stdout",
     "output_type": "stream",
     "text": [
      "Drain emitted 0\n",
      "Drain emitted 1\n"
     ]
    }
   ],
   "source": [
    "std::thread s1(source, std::ref(source2one), 10, 1000ms);"
   ]
  },
  {
   "cell_type": "code",
   "execution_count": 10,
   "metadata": {},
   "outputs": [
    {
     "name": "stdout",
     "output_type": "stream",
     "text": [
      "Drain emitted 2\n"
     ]
    }
   ],
   "source": [
    "auto inc = [](int x) { return(x+1);};"
   ]
  },
  {
   "cell_type": "code",
   "execution_count": 11,
   "metadata": {},
   "outputs": [
    {
     "name": "stdout",
     "output_type": "stream",
     "text": [
      "Drain emitted 3\n"
     ]
    }
   ],
   "source": [
    "std::thread s2(genericstage, std::ref(source2one), std::ref(one2drain), 1000ms);"
   ]
  },
  {
   "cell_type": "code",
   "execution_count": 12,
   "metadata": {},
   "outputs": [
    {
     "name": "stdout",
     "output_type": "stream",
     "text": [
      "Drain started\n",
      "Drain emitted 4\n",
      "received 1\n",
      "Drain emitted 5\n",
      "received 2\n",
      "Drain emitted 6\n",
      "received 3\n",
      "Drain emitted 7\n",
      "received 4\n",
      "Drain emitted 8\n",
      "received 5\n",
      "Drain emitted 9\n",
      "sent EOS\n"
     ]
    }
   ],
   "source": [
    "std::thread s3(drain, std::ref(one2drain), 1000ms);"
   ]
  },
  {
   "cell_type": "markdown",
   "metadata": {},
   "source": [
    "Now runnning as expected"
   ]
  },
  {
   "cell_type": "code",
   "execution_count": 13,
   "metadata": {},
   "outputs": [
    {
     "name": "stdout",
     "output_type": "stream",
     "text": [
      "received 6\n"
     ]
    }
   ],
   "source": [
    "s1.join();"
   ]
  },
  {
   "cell_type": "code",
   "execution_count": 14,
   "metadata": {},
   "outputs": [
    {
     "name": "stdout",
     "output_type": "stream",
     "text": [
      "received 7\n",
      "received 8\n"
     ]
    }
   ],
   "source": [
    "s2.join();"
   ]
  },
  {
   "cell_type": "code",
   "execution_count": 15,
   "metadata": {},
   "outputs": [
    {
     "name": "stdout",
     "output_type": "stream",
     "text": [
      "received 9\n",
      "received 10\n"
     ]
    }
   ],
   "source": [
    "s3.join();"
   ]
  },
  {
   "cell_type": "markdown",
   "metadata": {},
   "source": [
    "If you come here, everything is finished"
   ]
  },
  {
   "cell_type": "markdown",
   "metadata": {},
   "source": [
    "# Exercise"
   ]
  },
  {
   "cell_type": "markdown",
   "metadata": {},
   "source": [
    "Use combinations of generic stage to set up a two stage pipeline:\n",
    "* Vary the amount of delay given to the stages (source, generic and drain) \n",
    "* Measure the time spent (from start to end) and \n",
    "* figure out if the formula given for completion time is exact. "
   ]
  },
  {
   "cell_type": "markdown",
   "metadata": {},
   "source": [
    "Feel free to use the right amount and type of queues. "
   ]
  },
  {
   "cell_type": "markdown",
   "metadata": {},
   "source": [
    "Suggestion: \n",
    "* use the following code to measure time, as seen during the lesson\n",
    "* include in the utimer scope both thread start and thread join operation(s)"
   ]
  },
  {
   "cell_type": "code",
   "execution_count": 16,
   "metadata": {},
   "outputs": [],
   "source": [
    "#include <iostream>\n",
    "#include <chrono>\n",
    "\n",
    "class utimer {\n",
    "  std::chrono::system_clock::time_point start;\n",
    "  std::chrono::system_clock::time_point stop;\n",
    "  std::string message; \n",
    "  using usecs = std::chrono::microseconds;\n",
    "  using msecs = std::chrono::milliseconds;\n",
    "\n",
    "private:\n",
    "  long * us_elapsed;\n",
    "  \n",
    "public:\n",
    "\n",
    "  utimer(const std::string m) : message(m),us_elapsed((long *)NULL) {\n",
    "    start = std::chrono::system_clock::now();\n",
    "  }\n",
    "    \n",
    "  utimer(const std::string m, long * us) : message(m),us_elapsed(us) {\n",
    "    start = std::chrono::system_clock::now();\n",
    "  }\n",
    "\n",
    "  ~utimer() {\n",
    "    stop =\n",
    "      std::chrono::system_clock::now();\n",
    "    std::chrono::duration<double> elapsed =\n",
    "      stop - start;\n",
    "    auto musec =\n",
    "      std::chrono::duration_cast<std::chrono::microseconds>(elapsed).count();\n",
    "    \n",
    "    std::cout << message << \" computed in \" << musec << \" usec \" << std::endl;\n",
    "    if(us_elapsed != NULL)\n",
    "      (*us_elapsed) = musec;\n",
    "  }\n",
    "};\n"
   ]
  },
  {
   "cell_type": "markdown",
   "metadata": {},
   "source": [
    "As an example, to see how much time a source uses to send his data items to the output queue: "
   ]
  },
  {
   "cell_type": "code",
   "execution_count": 17,
   "metadata": {},
   "outputs": [
    {
     "name": "stdout",
     "output_type": "stream",
     "text": [
      "Drain emitted 0\n",
      "Drain emitted 1\n",
      "Drain emitted 2\n",
      "Drain emitted 3\n",
      "Drain emitted 4\n",
      "sent EOS\n",
      "time send computed in 5001761 usec \n"
     ]
    }
   ],
   "source": [
    "myqueue<int> qq;\n",
    "{\n",
    "    utimer t1(\"time send\");\n",
    "    std::thread tid(source, std::ref(qq), 5, 1000ms);\n",
    "    tid.join();\n",
    "}"
   ]
  },
  {
   "cell_type": "code",
   "execution_count": null,
   "metadata": {},
   "outputs": [],
   "source": []
  }
 ],
 "metadata": {
  "kernelspec": {
   "display_name": "C++17",
   "language": "C++17",
   "name": "xcpp17"
  },
  "language_info": {
   "codemirror_mode": "text/x-c++src",
   "file_extension": ".cpp",
   "mimetype": "text/x-c++src",
   "name": "c++",
   "version": "-std=c++17"
  }
 },
 "nbformat": 4,
 "nbformat_minor": 4
}
